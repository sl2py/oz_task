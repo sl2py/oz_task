{
  "cells": [
    {
      "cell_type": "markdown",
      "metadata": {
        "id": "WXEwMsfUct7U"
      },
      "source": [
        "안녕하세요.<br><br>\n",
        "수강생 여러분~! Chapter05 ~ 08 수업은 잘 들으셨나요?\n",
        "\n",
        "Chapter05 ~ 08의 수업 내용을 바탕으로 아래 문제를 풀어주시면 됩니다.\n",
        "\n",
        "<br>\n",
        "\n",
        "\n",
        "[**답변 입력 방법**]\n",
        "\n",
        "문제 아래에 있는 코드 입력창에 정답코드를 작성하신 후  __▷ 버튼을 클릭해 코드를 실행__ 해보세요<br>"
      ]
    },
    {
      "cell_type": "markdown",
      "metadata": {
        "id": "qoyC9wF-3hvs"
      },
      "source": [
        "-----"
      ]
    },
    {
      "cell_type": "markdown",
      "metadata": {
        "id": "9cykOi4nY1Lq"
      },
      "source": [
        "## 모험가들의 레벨업 도전\n",
        "\n",
        "### [배경 이야기]\n",
        "\n",
        "당신은 마법사, 전사, 도적, 힐러 네 명의 모험가를 이끄는 리더입니다.\n",
        "\n",
        "각 캐릭터는 힘, 민첩, 지능, 체력이라는 능력치를 가지고 있습니다. 이 능력치들을 이용해 다양한 도전을 해결하고 사냥을 통해 경험치를 얻어 레벨업을 해야 합니다.\n",
        "\n",
        "<br>\n",
        "\n",
        "### [동료 캐릭터와 능력치 정보]\n",
        "\n",
        "마법사: 힘(10), 민첩(20), 지능(80), 체력(50)\n",
        "\n",
        "전사: 힘(80), 민첩(30), 지능(20), 체력(100)\n",
        "\n",
        "도적: 힘(40), 민첩(80), 지능(30), 체력(60)\n",
        "\n",
        "힐러: 힘(20), 민첩(40), 지능(70), 체력(70)\n",
        "\n",
        "<br>\n",
        "\n",
        "* 변수명을 영어로 변경해서 풀어보세요 !"
      ]
    },
    {
      "cell_type": "markdown",
      "metadata": {
        "id": "hlK5JUvIY1Lq"
      },
      "source": [
        "<br>\n",
        "\n",
        "__[문제 1: 첫 번째 사냥]__\n",
        "\n",
        "마법사는 몬스터를 사냥하기 위해 마법을 사용합니다.\n",
        "\n",
        "마법을 사용하려면 지능이 50 이상이어야 합니다.\n",
        "\n",
        "마법사의 지능이 50 이상인지 확인하세요."
      ]
    },
    {
      "cell_type": "code",
      "execution_count": 2,
      "metadata": {
        "colab": {
          "base_uri": "https://localhost:8080/"
        },
        "id": "zN16wr9dY1Lr",
        "outputId": "fb060178-6317-48b7-9f1b-288ba829e474"
      },
      "outputs": [
        {
          "output_type": "stream",
          "name": "stdout",
          "text": [
            "True\n"
          ]
        }
      ],
      "source": [
        "mag_sta = (10)\n",
        "mag_dex = (20)\n",
        "mag_int = (80)\n",
        "mag_hp = (50)\n",
        "\n",
        "print(mag_int >= 50)"
      ]
    },
    {
      "cell_type": "markdown",
      "metadata": {
        "id": "tv1ilaAKY1Lr"
      },
      "source": [
        "<br>\n",
        "\n",
        "__[문제 2: 두 번째 사냥]__\n",
        "\n",
        "전사는 강력한 공격을 하기 위해 자신의 힘을 사용합니다.\n",
        "\n",
        "전사의 힘이 60 이상이고 체력이 80 이상인지 확인하세요."
      ]
    },
    {
      "cell_type": "code",
      "execution_count": 3,
      "metadata": {
        "colab": {
          "base_uri": "https://localhost:8080/"
        },
        "id": "t8OOmCoaY1Ls",
        "outputId": "99c590d0-31fc-4e8f-bdd6-ea535da523f4"
      },
      "outputs": [
        {
          "output_type": "stream",
          "name": "stdout",
          "text": [
            "True\n"
          ]
        }
      ],
      "source": [
        "war_sta = (80)\n",
        "war_dex = (30)\n",
        "war_int = (20)\n",
        "war_hp = (100)\n",
        "\n",
        "print(war_sta >= 60 and war_hp >=80)"
      ]
    },
    {
      "cell_type": "markdown",
      "metadata": {
        "id": "oDPt162TY1Ls"
      },
      "source": [
        "<br>\n",
        "\n",
        "__[문제 3: 세 번째 사냥]__\n",
        "\n",
        "도적은 민첩함을 이용해 몬스터를 회피하고 공격합니다.\n",
        "\n",
        "도적의 민첩이 70 이상이거나 힘이 50 이상인지 확인하세요."
      ]
    },
    {
      "cell_type": "code",
      "execution_count": 4,
      "metadata": {
        "colab": {
          "base_uri": "https://localhost:8080/"
        },
        "id": "x7FZ4IA0Y1Ls",
        "outputId": "5cad86bc-c6cd-4804-8dc6-db060e57143e"
      },
      "outputs": [
        {
          "output_type": "stream",
          "name": "stdout",
          "text": [
            "True\n"
          ]
        }
      ],
      "source": [
        "thi_sta = (40)\n",
        "thi_dex = (80)\n",
        "thi_int = (30)\n",
        "thi_hp = (60)\n",
        "\n",
        "print(thi_dex >=70 or thi_sta >= 50)"
      ]
    },
    {
      "cell_type": "markdown",
      "metadata": {
        "id": "UJ2cdT2MY1Lt"
      },
      "source": [
        "<br>\n",
        "\n",
        "__[문제 4: 네 번째 사냥]__\n",
        "\n",
        "힐러는 파티의 체력을 회복시키기 위해 마법을 사용합니다.\n",
        "\n",
        "힐러의 지능이 60 이상이고, 체력이 50 이상인지 확인하세요."
      ]
    },
    {
      "cell_type": "code",
      "execution_count": 5,
      "metadata": {
        "colab": {
          "base_uri": "https://localhost:8080/"
        },
        "id": "I6U5h8dkY1Lt",
        "outputId": "3c341c74-936b-4508-c30d-22e79baa7ac0"
      },
      "outputs": [
        {
          "output_type": "stream",
          "name": "stdout",
          "text": [
            "True\n"
          ]
        }
      ],
      "source": [
        "pri_sta = (20)\n",
        "pri_dex = (40)\n",
        "pri_int = (70)\n",
        "pri_hp = (70)\n",
        "\n",
        "print(pri_int >=60 and pri_hp >=50)"
      ]
    },
    {
      "cell_type": "markdown",
      "metadata": {
        "id": "NN4uOMM-Y1Lt"
      },
      "source": [
        "<br>\n",
        "\n",
        "__[문제 5: 레벨업]__\n",
        "\n",
        "모든 캐릭터가 사냥을 성공적으로 마쳤습니다. 이제 경험치를 얻어 레벨업을 해야 합니다.\n",
        "\n",
        "\n",
        "각 캐릭터의 경험치가 100 이상인지 print()를 이용해 확인해주세요.\n",
        "\n",
        "<br>\n",
        "\n",
        "경험치는 아래와 같습니다.\n",
        "\n",
        "마법사: 120\n",
        "\n",
        "전사: 150\n",
        "\n",
        "도적: 110\n",
        "\n",
        "힐러: 90\n",
        "\n"
      ]
    },
    {
      "cell_type": "code",
      "execution_count": 6,
      "metadata": {
        "colab": {
          "base_uri": "https://localhost:8080/"
        },
        "id": "_zXkMZb7Y1Lt",
        "outputId": "6d7cd86e-45e7-46b9-feaa-6557ac473f16"
      },
      "outputs": [
        {
          "output_type": "stream",
          "name": "stdout",
          "text": [
            "True True True False\n"
          ]
        }
      ],
      "source": [
        "mag_exp = (120)\n",
        "war_exp = (150)\n",
        "thi_exp = (110)\n",
        "pri_exp = (90)\n",
        "\n",
        "print(mag_exp >=100, war_exp >=100, thi_exp >=100, pri_exp >=100)"
      ]
    }
  ],
  "metadata": {
    "colab": {
      "provenance": []
    },
    "kernelspec": {
      "display_name": "Python 3",
      "name": "python3"
    },
    "language_info": {
      "name": "python"
    }
  },
  "nbformat": 4,
  "nbformat_minor": 0
}